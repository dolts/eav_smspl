{
  "nbformat": 4,
  "nbformat_minor": 0,
  "metadata": {
    "colab": {
      "name": "Eventos_Adversos_a_Vacina_SMS_PMPL.ipynb",
      "provenance": [],
      "collapsed_sections": [],
      "include_colab_link": true
    },
    "kernelspec": {
      "name": "python3",
      "display_name": "Python 3"
    }
  },
  "cells": [
    {
      "cell_type": "markdown",
      "metadata": {
        "id": "view-in-github",
        "colab_type": "text"
      },
      "source": [
        "<a href=\"https://colab.research.google.com/github/dolts/eav_smspl/blob/main/Eventos_Adversos_a_Vacina_SMS_PMPL.ipynb\" target=\"_parent\"><img src=\"https://colab.research.google.com/assets/colab-badge.svg\" alt=\"Open In Colab\"/></a>"
      ]
    },
    {
      "cell_type": "markdown",
      "metadata": {
        "id": "J8yhXsmc8pTq"
      },
      "source": [
        "# Renomeando Arquivo .csv"
      ]
    },
    {
      "cell_type": "code",
      "metadata": {
        "id": "b0r3SHrc6ZUw",
        "colab": {
          "base_uri": "https://localhost:8080/"
        },
        "outputId": "5697d2ee-041d-48c8-e838-69fb577bc9be"
      },
      "source": [
        "! mv *.csv eav.csv"
      ],
      "execution_count": null,
      "outputs": [
        {
          "output_type": "stream",
          "text": [
            "mv: 'eav.csv' and 'eav.csv' are the same file\n"
          ],
          "name": "stdout"
        }
      ]
    },
    {
      "cell_type": "markdown",
      "metadata": {
        "id": "oOoHB3g48xfG"
      },
      "source": [
        "# Pegando dados do arquivo de números no Google Drive\r\n",
        "\r\n",
        "#### Precisa estar com o Drive montado"
      ]
    },
    {
      "cell_type": "code",
      "metadata": {
        "id": "TWIrxO0r9Xha"
      },
      "source": [
        "# Iniciando leitura do arquivo e dividindo em uma lista\r\n",
        "with open('drive/MyDrive/numeros_eav.txt') as numbers_file:\r\n",
        "    number_to_exclude = numbers_file.read().split('\\n')"
      ],
      "execution_count": null,
      "outputs": []
    },
    {
      "cell_type": "markdown",
      "metadata": {
        "id": "f39AR4-K9BRf"
      },
      "source": [
        "# Iniciando análise com o pandas"
      ]
    },
    {
      "cell_type": "code",
      "metadata": {
        "id": "puQ0n6OD_Jbv"
      },
      "source": [
        "import pandas as pd\r\n",
        "\r\n",
        "data = pd.read_csv('eav.csv', sep=';')"
      ],
      "execution_count": null,
      "outputs": []
    },
    {
      "cell_type": "code",
      "metadata": {
        "id": "lvBsuFrxlzN1"
      },
      "source": [
        "index_to_drop = data.query('`Número da Notificação` in @number_to_exclude').index\r\n",
        "data.drop(index_to_drop, inplace=True)"
      ],
      "execution_count": null,
      "outputs": []
    },
    {
      "cell_type": "code",
      "metadata": {
        "id": "9t9SGhEtlzvl"
      },
      "source": [
        "fields = [\r\n",
        "          'Número da Notificação',\r\n",
        "          'Nome Completo',\r\n",
        "          'Notificante CNES',\r\n",
        "          'Notificante Nome Completo'\r\n",
        "]"
      ],
      "execution_count": null,
      "outputs": []
    },
    {
      "cell_type": "code",
      "metadata": {
        "id": "k9PfkUsDpLRq"
      },
      "source": [
        "data_filtered = data.query('`Município de Residência` == \"Pedro Leopoldo\"')[fields]"
      ],
      "execution_count": null,
      "outputs": []
    },
    {
      "cell_type": "code",
      "metadata": {
        "id": "Q1VMilnepcrp"
      },
      "source": [
        "# Definindo nome do arquivo e salvando\r\n",
        "from datetime import datetime\r\n",
        "from dateutil import tz\r\n",
        "\r\n",
        "time_now = datetime.now()\r\n",
        "time_now = time_now.astimezone(tz.gettz('America/Sao_Paulo'))\r\n",
        "\r\n",
        "final_file_name = f'eav_{time_now.strftime(\"%d_%m_%Y\")}.xlsx'\r\n",
        "\r\n",
        "with pd.ExcelWriter(final_file_name) as writer:\r\n",
        "    data_filtered.to_excel(writer, sheet_name='EAV', index=False)"
      ],
      "execution_count": null,
      "outputs": []
    },
    {
      "cell_type": "markdown",
      "metadata": {
        "id": "6AGHRHtO9evf"
      },
      "source": [
        "# Fazendo download da planilha via código"
      ]
    },
    {
      "cell_type": "code",
      "metadata": {
        "colab": {
          "base_uri": "https://localhost:8080/",
          "height": 17
        },
        "id": "8Xwyaiwe9ROW",
        "outputId": "db6c9442-7509-4e17-95c5-fed5f16c5967"
      },
      "source": [
        "from google.colab import files\n",
        "\n",
        "files.download(final_file_name)"
      ],
      "execution_count": null,
      "outputs": [
        {
          "output_type": "display_data",
          "data": {
            "application/javascript": [
              "\n",
              "    async function download(id, filename, size) {\n",
              "      if (!google.colab.kernel.accessAllowed) {\n",
              "        return;\n",
              "      }\n",
              "      const div = document.createElement('div');\n",
              "      const label = document.createElement('label');\n",
              "      label.textContent = `Downloading \"${filename}\": `;\n",
              "      div.appendChild(label);\n",
              "      const progress = document.createElement('progress');\n",
              "      progress.max = size;\n",
              "      div.appendChild(progress);\n",
              "      document.body.appendChild(div);\n",
              "\n",
              "      const buffers = [];\n",
              "      let downloaded = 0;\n",
              "\n",
              "      const channel = await google.colab.kernel.comms.open(id);\n",
              "      // Send a message to notify the kernel that we're ready.\n",
              "      channel.send({})\n",
              "\n",
              "      for await (const message of channel.messages) {\n",
              "        // Send a message to notify the kernel that we're ready.\n",
              "        channel.send({})\n",
              "        if (message.buffers) {\n",
              "          for (const buffer of message.buffers) {\n",
              "            buffers.push(buffer);\n",
              "            downloaded += buffer.byteLength;\n",
              "            progress.value = downloaded;\n",
              "          }\n",
              "        }\n",
              "      }\n",
              "      const blob = new Blob(buffers, {type: 'application/binary'});\n",
              "      const a = document.createElement('a');\n",
              "      a.href = window.URL.createObjectURL(blob);\n",
              "      a.download = filename;\n",
              "      div.appendChild(a);\n",
              "      a.click();\n",
              "      div.remove();\n",
              "    }\n",
              "  "
            ],
            "text/plain": [
              "<IPython.core.display.Javascript object>"
            ]
          },
          "metadata": {
            "tags": []
          }
        },
        {
          "output_type": "display_data",
          "data": {
            "application/javascript": [
              "download(\"download_dfdb6b01-9a82-487a-b12c-6ab0733244ed\", \"eav_08_02_2021.xlsx\", 5223)"
            ],
            "text/plain": [
              "<IPython.core.display.Javascript object>"
            ]
          },
          "metadata": {
            "tags": []
          }
        }
      ]
    },
    {
      "cell_type": "markdown",
      "metadata": {
        "id": "5zhQcfAQ9xsC"
      },
      "source": [
        "# Salvando os números gerados automaticamente no arquivo importado"
      ]
    },
    {
      "cell_type": "code",
      "metadata": {
        "id": "YRo7ts7knR2N"
      },
      "source": [
        "with open('drive/MyDrive/numeros_eav.txt', 'a') as numbers_file:\r\n",
        "    for number in data_filtered['Número da Notificação']:\r\n",
        "        numbers_file.write(f'{str(number)}\\n')\r\n"
      ],
      "execution_count": null,
      "outputs": []
    },
    {
      "cell_type": "markdown",
      "metadata": {
        "id": "3-TT0eGx96eL"
      },
      "source": [
        "# Pegando credenciais para envio de e-mail"
      ]
    },
    {
      "cell_type": "code",
      "metadata": {
        "id": "vJqwHLPVvzTa"
      },
      "source": [
        "import json\r\n",
        "\r\n",
        "with open('drive/MyDrive/credentials.json', 'r') as file:\r\n",
        "    credentials = json.loads(file.read())"
      ],
      "execution_count": null,
      "outputs": []
    },
    {
      "cell_type": "markdown",
      "metadata": {
        "id": "ZpsmCDzp-Eya"
      },
      "source": [
        "# Definindo mensagem e \"montando\" e-mail para envio"
      ]
    },
    {
      "cell_type": "code",
      "metadata": {
        "id": "a1ILkoyWwUPP"
      },
      "source": [
        "message = f'''\r\n",
        "Prezada,\r\n",
        "\r\n",
        "Segue anexo relatório feito no dia {time_now.strftime(\"%d/%m/%Y\")} às {time_now.strftime(\"%H:%M:%S\")}.\r\n",
        "Este é um envio automático, caso hava alguma discrepância favor entrar em contato.\r\n",
        "\r\n",
        "Atenciosamente,\r\n",
        "\r\n",
        "Douglas Andrade de Oliveira\r\n",
        "Coordenação de Atenção Primária\r\n",
        "Secretaria Municipal de Saúde\r\n",
        "Pedro Leopoldo - MG\r\n",
        "(31) 3660-5132\r\n",
        "'''.encode('utf-8')"
      ],
      "execution_count": null,
      "outputs": []
    },
    {
      "cell_type": "code",
      "metadata": {
        "colab": {
          "base_uri": "https://localhost:8080/"
        },
        "id": "vyQhb0_5pmNz",
        "outputId": "b3ee0e13-2dd4-4d65-b0bd-c781616bce19"
      },
      "source": [
        "import smtplib\r\n",
        "from email.mime.multipart import MIMEMultipart\r\n",
        "from email.mime.text import MIMEText\r\n",
        "from email.mime.base import MIMEBase\r\n",
        "from email import encoders\r\n",
        "\r\n",
        "host = 'smtp.gmail.com'\r\n",
        "port = 465\r\n",
        "\r\n",
        "server = smtplib.SMTP_SSL(host, port)\r\n",
        "server.login(credentials['email'], credentials['password'])\r\n",
        "\r\n",
        "email_msg = MIMEMultipart()\r\n",
        "email_msg['From'] = credentials['email']\r\n",
        "email_msg['To'] = credentials['receiver']\r\n",
        "email_msg['Subject'] = f'Relatório E-SUS Notifica EAV {time_now.strftime(\"%d/%m/%Y\")}'\r\n",
        "email_msg.attach(MIMEText(message.decode(encoding='utf-8'), 'plain'))\r\n",
        "\r\n",
        "attachment = open(final_file_name, 'rb')\r\n",
        "\r\n",
        "att = MIMEBase('application', 'octet-stream')\r\n",
        "att.set_payload(attachment.read())\r\n",
        "encoders.encode_base64(att)\r\n",
        "att.add_header('Content-Disposition', f'attachment; filename= {final_file_name}')\r\n",
        "\r\n",
        "attachment.close()\r\n",
        "\r\n",
        "email_msg.attach(att)\r\n",
        "\r\n",
        "server.sendmail(email_msg['From'], email_msg['To'], email_msg.as_string())\r\n",
        "\r\n",
        "server.quit()"
      ],
      "execution_count": null,
      "outputs": [
        {
          "output_type": "execute_result",
          "data": {
            "text/plain": [
              "(221, b'2.0.0 closing connection k14sm2064557uae.12 - gsmtp')"
            ]
          },
          "metadata": {
            "tags": []
          },
          "execution_count": 24
        }
      ]
    },
    {
      "cell_type": "code",
      "metadata": {
        "id": "P47VFdVlHolw"
      },
      "source": [
        ""
      ],
      "execution_count": null,
      "outputs": []
    }
  ]
}